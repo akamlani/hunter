{
 "cells": [
  {
   "cell_type": "code",
   "execution_count": 29,
   "metadata": {},
   "outputs": [],
   "source": [
    "import torch"
   ]
  },
  {
   "cell_type": "markdown",
   "metadata": {},
   "source": [
    "# Define Dense Network from scratch"
   ]
  },
  {
   "cell_type": "code",
   "execution_count": 64,
   "metadata": {},
   "outputs": [],
   "source": [
    "class LinearLayer(object):\n",
    "    def __init__(self):\n",
    "        pass \n",
    "    \n",
    "    def init_layer(self, in_dim, out_dim):\n",
    "        \"\"\"initialize weights and biases (w,b)\n",
    "        \n",
    "        >>> w,b = init_layer(n_input, n_hidden)\n",
    "        >>> w,b = init_layer(n_hidden, n_output\n",
    "        \"\"\"\n",
    "        w = torch.randn(in_dim, out_dim)\n",
    "        b = torch.randn((1,out_dim))\n",
    "        return (w,b)\n",
    "        \n",
    "class DenseNetwork(object):\n",
    "    def __init__(self, n_input, n_hidden, n_output):\n",
    "        self.num_classes, self.output_activation_fn = self.get_output_activation(n_output)\n",
    "        self.w1,self.b1 = LinearLayer().init_layer(n_input,  n_hidden)\n",
    "        self.w2,self.b2 = LinearLayer().init_layer(n_hidden, self.num_classes)\n",
    "        \n",
    "    def forward(self, X):\n",
    "        # let X represent features\n",
    "        h      = self.sigmoid(torch.mm(X, self.w1) + self.b1)\n",
    "        logits = torch.mm(h, self.w2) + self.b2\n",
    "        proba  = self.output_activation_fn(logits)\n",
    "        return logits, proba\n",
    "    \n",
    "    def get_output_activation(self, num_classes):\n",
    "        if num_classes <= 2:\n",
    "            num_classes, activation_fn = \\\n",
    "            (num_classes, self.sigmoid) if num_classes == 1 else (num_classes - 1, self.sigmoid)\n",
    "        else:\n",
    "            activation_fn = self.softmax\n",
    "        return num_classes, activation_fn\n",
    "        \n",
    "    def sigmoid(self, x):\n",
    "        return 1/(1+torch.exp(-x))\n",
    "    \n",
    "    def softmax(self, x):\n",
    "        # .sum across a single row for each example; dim=1 for sum across columns\n",
    "        # want output to be [batch_size, num_classes]\n",
    "        #[.view(-1,1) for [rows=batch_size,columns=1(1 value for each of rows)]]\n",
    "        return torch.exp(x)/torch.sum(torch.exp(x), dim=1).view(-1, 1) "
   ]
  },
  {
   "cell_type": "markdown",
   "metadata": {},
   "source": [
    "## Random Input"
   ]
  },
  {
   "cell_type": "code",
   "execution_count": 65,
   "metadata": {},
   "outputs": [
    {
     "data": {
      "text/plain": [
       "(tensor([[-0.7842]]), array([[-0.78421736]], dtype=float32))"
      ]
     },
     "execution_count": 65,
     "metadata": {},
     "output_type": "execute_result"
    }
   ],
   "source": [
    "# Dense Network from scratch\n",
    "features = torch.randn((1, 3))    # (1 row, 3 features) as 3 random normal variables\n",
    "n_input  = features.shape[1]      # Number of input units, must match number of input features\n",
    "n_hidden = 2                      # Number of hidden units \n",
    "n_output = 1                      # Number of output units\n",
    "net = DenseNetwork(n_input, n_hidden, n_output)\n",
    "logits, proba = net.forward(features)\n",
    "logits, logits.numpy()"
   ]
  },
  {
   "cell_type": "markdown",
   "metadata": {},
   "source": [
    "## MNIST"
   ]
  },
  {
   "cell_type": "code",
   "execution_count": 52,
   "metadata": {},
   "outputs": [],
   "source": [
    "import torch\n",
    "from   torchvision import datasets, transforms\n",
    "\n",
    "# Define a transform to normalize the data\n",
    "transform   = transforms.Compose([transforms.ToTensor(),\n",
    "                                  transforms.Normalize((0.5,), (0.5,)) ])\n",
    "trainset    = datasets.MNIST('~/.pytorch/MNIST_data/', download=True, train=True, transform=transform)\n",
    "# load the traininset for batchtraining\n",
    "trainloader = torch.utils.data.DataLoader(trainset, batch_size=64, shuffle=True)\n",
    "dataiter    = iter(trainloader)"
   ]
  },
  {
   "cell_type": "code",
   "execution_count": 53,
   "metadata": {},
   "outputs": [
    {
     "name": "stdout",
     "output_type": "stream",
     "text": [
      "<class 'torch.Tensor'> torch.Size([64, 1, 28, 28]) torch.Size([64])\n",
      "<class 'torch.Tensor'> torch.Size([64, 784])\n"
     ]
    }
   ],
   "source": [
    "images, labels = dataiter.next()\n",
    "print(type(images), images.shape, labels.shape)\n",
    "# Flatten the input images\n",
    "inputs = images.view(images.shape[0], -1)\n",
    "print(type(inputs), inputs.shape)"
   ]
  },
  {
   "cell_type": "code",
   "execution_count": 68,
   "metadata": {},
   "outputs": [
    {
     "name": "stdout",
     "output_type": "stream",
     "text": [
      "torch.Size([64, 10]) torch.Size([64, 10])\n",
      "tensor([1.0000, 1.0000, 1.0000, 1.0000, 1.0000, 1.0000, 1.0000, 1.0000, 1.0000,\n",
      "        1.0000, 1.0000, 1.0000, 1.0000, 1.0000, 1.0000, 1.0000, 1.0000, 1.0000,\n",
      "        1.0000, 1.0000, 1.0000, 1.0000, 1.0000, 1.0000, 1.0000, 1.0000, 1.0000,\n",
      "        1.0000, 1.0000, 1.0000, 1.0000, 1.0000, 1.0000, 1.0000, 1.0000, 1.0000,\n",
      "        1.0000, 1.0000, 1.0000, 1.0000, 1.0000, 1.0000, 1.0000, 1.0000, 1.0000,\n",
      "        1.0000, 1.0000, 1.0000, 1.0000, 1.0000, 1.0000, 1.0000, 1.0000, 1.0000,\n",
      "        1.0000, 1.0000, 1.0000, 1.0000, 1.0000, 1.0000, 1.0000, 1.0000, 1.0000,\n",
      "        1.0000])\n"
     ]
    }
   ],
   "source": [
    "net = DenseNetwork(n_input=784, n_hidden=256, n_output=10)\n",
    "logits, proba = net.forward(inputs)\n",
    "print(logits.shape, proba.shape)\n",
    "print(proba.sum(dim=1))"
   ]
  },
  {
   "cell_type": "code",
   "execution_count": null,
   "metadata": {},
   "outputs": [],
   "source": []
  }
 ],
 "metadata": {
  "kernelspec": {
   "display_name": "Python [conda env:deeplearning.core.v37] *",
   "language": "python",
   "name": "conda-env-deeplearning.core.v37-py"
  },
  "language_info": {
   "codemirror_mode": {
    "name": "ipython",
    "version": 3
   },
   "file_extension": ".py",
   "mimetype": "text/x-python",
   "name": "python",
   "nbconvert_exporter": "python",
   "pygments_lexer": "ipython3",
   "version": "3.7.7"
  }
 },
 "nbformat": 4,
 "nbformat_minor": 4
}
