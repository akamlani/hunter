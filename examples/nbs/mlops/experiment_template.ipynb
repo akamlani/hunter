{
 "cells": [
  {
   "cell_type": "code",
   "execution_count": 1,
   "metadata": {},
   "outputs": [],
   "source": [
    "import  os\n",
    "import  hunter.mlops.experiments.experiment as exp"
   ]
  },
  {
   "cell_type": "markdown",
   "metadata": {},
   "source": [
    "# Define Experiment"
   ]
  },
  {
   "cell_type": "code",
   "execution_count": 2,
   "metadata": {},
   "outputs": [],
   "source": [
    "user_dir       = os.getenv(\"HOME\")\n",
    "data_root_dir  = os.path.join(user_dir,      \"dev-platform/data\")\n",
    "vocab_root_dir = os.path.join(data_root_dir, \"nlp/vocab\")\n",
    "data_proj_dir  = os.path.join(data_root_dir, \"nlp/core/imdb/aclImdb\")"
   ]
  },
  {
   "cell_type": "code",
   "execution_count": 3,
   "metadata": {},
   "outputs": [
    {
     "name": "stdout",
     "output_type": "stream",
     "text": [
      "['man', 'releases', 'tests', 'exports', 'env', 'scripts', 'external', 'data', 'apps']\n"
     ]
    }
   ],
   "source": [
    "experiment = exp.Experiment(project_name='bert-transformers', tags={'category':'nlp'})\n",
    "experiment.add_data_uri(data_proj_dir)\n",
    "experiment.add_vocab_uri(vocab_root_dir)\n",
    "experiment.list_project_dir(); "
   ]
  },
  {
   "cell_type": "code",
   "execution_count": 4,
   "metadata": {},
   "outputs": [
    {
     "name": "stdout",
     "output_type": "stream",
     "text": [
      "/Users/arikamlani/dev-platform/data/nlp/core/imdb/aclImdb /Users/arikamlani/dev-platform/data/nlp/vocab\n"
     ]
    }
   ],
   "source": [
    "print(experiment.datasrc_uri, experiment.vocabsrc_uri)"
   ]
  },
  {
   "cell_type": "code",
   "execution_count": null,
   "metadata": {},
   "outputs": [],
   "source": []
  }
 ],
 "metadata": {
  "kernelspec": {
   "display_name": "Python [conda env:deeplearning.core.v37] *",
   "language": "python",
   "name": "conda-env-deeplearning.core.v37-py"
  },
  "language_info": {
   "codemirror_mode": {
    "name": "ipython",
    "version": 3
   },
   "file_extension": ".py",
   "mimetype": "text/x-python",
   "name": "python",
   "nbconvert_exporter": "python",
   "pygments_lexer": "ipython3",
   "version": "3.7.7"
  }
 },
 "nbformat": 4,
 "nbformat_minor": 4
}
